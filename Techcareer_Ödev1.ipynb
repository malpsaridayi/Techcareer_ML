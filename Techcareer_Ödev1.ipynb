{
 "cells": [
  {
   "cell_type": "markdown",
   "id": "5226e85e",
   "metadata": {},
   "source": [
    "# ODEV 1 SIRALAMA ALGORİTMALARI"
   ]
  },
  {
   "cell_type": "code",
   "execution_count": 3,
   "id": "333de5ce",
   "metadata": {},
   "outputs": [],
   "source": [
    "import pandas as pd ; import numpy as np "
   ]
  },
  {
   "cell_type": "code",
   "execution_count": 4,
   "id": "9b7deebb",
   "metadata": {},
   "outputs": [],
   "source": [
    "import random"
   ]
  },
  {
   "cell_type": "code",
   "execution_count": 5,
   "id": "1807534f",
   "metadata": {},
   "outputs": [],
   "source": [
    "veri=[random.randint(1,100) for _ in range(20)]"
   ]
  },
  {
   "cell_type": "code",
   "execution_count": 15,
   "id": "590cc07a",
   "metadata": {},
   "outputs": [
    {
     "name": "stdout",
     "output_type": "stream",
     "text": [
      "Veri Seti\n",
      "[66, 71, 80, 54, 30, 94, 36, 32, 32, 58, 68, 99, 2, 44, 54, 78, 14, 73, 11, 91]\n"
     ]
    }
   ],
   "source": [
    "print(\"Veri Seti\")\n",
    "print(veri)"
   ]
  },
  {
   "cell_type": "markdown",
   "id": "95a793eb",
   "metadata": {},
   "source": [
    "# Bubble Sort"
   ]
  },
  {
   "cell_type": "code",
   "execution_count": 16,
   "id": "9950b685",
   "metadata": {},
   "outputs": [],
   "source": [
    "##Bubble sort function"
   ]
  },
  {
   "cell_type": "code",
   "execution_count": 17,
   "id": "541fee18",
   "metadata": {},
   "outputs": [],
   "source": [
    "def bubble_sort(arr):\n",
    "    n = len(arr)\n",
    "    for i in range(n - 1):\n",
    "        for j in range(0, n - i - 1):\n",
    "            if arr[j] > arr[j + 1]:\n",
    "                arr[j], arr[j + 1] = arr[j + 1], arr[j]"
   ]
  },
  {
   "cell_type": "code",
   "execution_count": 19,
   "id": "429c006f",
   "metadata": {},
   "outputs": [
    {
     "name": "stdout",
     "output_type": "stream",
     "text": [
      "Bubble Sorted Veri\n",
      "[2, 11, 14, 30, 32, 32, 36, 44, 54, 54, 58, 66, 68, 71, 73, 78, 80, 91, 94, 99]\n"
     ]
    }
   ],
   "source": [
    "bubble_sorted=veri.copy()\n",
    "bubble_sort(bubble_sorted)\n",
    "print(\"Bubble Sorted Veri\")\n",
    "print(bubble_sorted)"
   ]
  },
  {
   "cell_type": "markdown",
   "id": "a4e6b897",
   "metadata": {},
   "source": [
    "# Selection Sort"
   ]
  },
  {
   "cell_type": "code",
   "execution_count": 20,
   "id": "c3c64f18",
   "metadata": {},
   "outputs": [],
   "source": [
    "## Selection sort funciton"
   ]
  },
  {
   "cell_type": "code",
   "execution_count": 21,
   "id": "3c20c735",
   "metadata": {},
   "outputs": [],
   "source": [
    "def selection_sort(arr):\n",
    "    n = len(arr)\n",
    "    for i in range(n):\n",
    "        min_index = i\n",
    "        for j in range(i + 1, n):\n",
    "            if arr[j] < arr[min_index]:\n",
    "                min_index = j\n",
    "        arr[i], arr[min_index] = arr[min_index], arr[i]"
   ]
  },
  {
   "cell_type": "code",
   "execution_count": 23,
   "id": "ffded054",
   "metadata": {},
   "outputs": [
    {
     "name": "stdout",
     "output_type": "stream",
     "text": [
      "Selection Sorted Veri\n",
      "[2, 11, 14, 30, 32, 32, 36, 44, 54, 54, 58, 66, 68, 71, 73, 78, 80, 91, 94, 99]\n"
     ]
    }
   ],
   "source": [
    "selection_sorted=veri.copy()\n",
    "selection_sort(selection_sorted)\n",
    "print(\"Selection Sorted Veri\")\n",
    "print(selection_sorted)"
   ]
  },
  {
   "cell_type": "markdown",
   "id": "93abd075",
   "metadata": {},
   "source": [
    "# Insertion Sort"
   ]
  },
  {
   "cell_type": "code",
   "execution_count": 24,
   "id": "5c1d4067",
   "metadata": {},
   "outputs": [],
   "source": [
    "# Insertion Sort Function"
   ]
  },
  {
   "cell_type": "code",
   "execution_count": 25,
   "id": "f5485ece",
   "metadata": {},
   "outputs": [],
   "source": [
    "def insertion_sort(arr):\n",
    "    for i in range(1, len(arr)):\n",
    "        key = arr[i]\n",
    "        j = i - 1\n",
    "        while j >= 0 and key < arr[j]:\n",
    "            arr[j + 1] = arr[j]\n",
    "            j -= 1\n",
    "        arr[j + 1] = key"
   ]
  },
  {
   "cell_type": "code",
   "execution_count": 26,
   "id": "d52ad2e6",
   "metadata": {},
   "outputs": [
    {
     "name": "stdout",
     "output_type": "stream",
     "text": [
      "Insertion Sorted Veri\n",
      "[2, 11, 14, 30, 32, 32, 36, 44, 54, 54, 58, 66, 68, 71, 73, 78, 80, 91, 94, 99]\n"
     ]
    }
   ],
   "source": [
    "insertion_sorted=veri.copy()\n",
    "insertion_sort(insertion_sorted)\n",
    "print(\"Insertion Sorted Veri\")\n",
    "print(insertion_sorted)"
   ]
  },
  {
   "cell_type": "markdown",
   "id": "14bc7226",
   "metadata": {},
   "source": [
    "# Quick Sort"
   ]
  },
  {
   "cell_type": "code",
   "execution_count": 30,
   "id": "0794d2d5",
   "metadata": {},
   "outputs": [],
   "source": [
    "#Quick Sort Function\n",
    "\n",
    "def quick_sort(arr):\n",
    "    if len(arr) <= 1:\n",
    "        return arr\n",
    "    \n",
    "    pivot = arr[len(arr) // 2]\n",
    "    left = [x for x in arr if x < pivot]\n",
    "    middle = [x for x in arr if x == pivot]\n",
    "    right = [x for x in arr if x > pivot]\n",
    "    \n",
    "    return quick_sort(left) + middle + quick_sort(right)"
   ]
  },
  {
   "cell_type": "code",
   "execution_count": 31,
   "id": "cc21a5b8",
   "metadata": {},
   "outputs": [
    {
     "name": "stdout",
     "output_type": "stream",
     "text": [
      "Quick Sorted Veri\n",
      "[2, 11, 14, 30, 32, 32, 36, 44, 54, 54, 58, 66, 68, 71, 73, 78, 80, 91, 94, 99]\n"
     ]
    }
   ],
   "source": [
    "quick_sorted=veri.copy()\n",
    "quick_sorted=quick_sort(quick_sorted)\n",
    "print(\"Quick Sorted Veri\")\n",
    "print(quick_sorted)"
   ]
  },
  {
   "cell_type": "markdown",
   "id": "3f55f28b",
   "metadata": {},
   "source": [
    "# Merge Sort"
   ]
  },
  {
   "cell_type": "code",
   "execution_count": 33,
   "id": "e04dfbe0",
   "metadata": {},
   "outputs": [],
   "source": [
    "#merge sort function\n",
    "def merge_sort(arr):\n",
    "    if len(arr) <= 1:\n",
    "        return arr\n",
    "\n",
    "    middle = len(arr) // 2\n",
    "    left_half = merge_sort(arr[:middle])\n",
    "    right_half = merge_sort(arr[middle:])\n",
    "\n",
    "    return merge(left_half, right_half)\n",
    "\n",
    "def merge(left, right):\n",
    "    result = []\n",
    "    left_idx, right_idx = 0, 0\n",
    "\n",
    "    while left_idx < len(left) and right_idx < len(right):\n",
    "        if left[left_idx] < right[right_idx]:\n",
    "            result.append(left[left_idx])\n",
    "            left_idx += 1\n",
    "        else:\n",
    "            result.append(right[right_idx])\n",
    "            right_idx += 1\n",
    "\n",
    "    result.extend(left[left_idx:])\n",
    "    result.extend(right[right_idx:])\n",
    "    \n",
    "    return result"
   ]
  },
  {
   "cell_type": "code",
   "execution_count": 37,
   "id": "67e98370",
   "metadata": {},
   "outputs": [
    {
     "name": "stdout",
     "output_type": "stream",
     "text": [
      "Merge Sorted Veri\n",
      "[2, 11, 14, 30, 32, 32, 36, 44, 54, 54, 58, 66, 68, 71, 73, 78, 80, 91, 94, 99]\n"
     ]
    }
   ],
   "source": [
    "merge_sorted=veri.copy()\n",
    "merge_sorted=merge_sort(merge_sorted)\n",
    "print(\"Merge Sorted Veri\")\n",
    "print(merge_sorted)"
   ]
  },
  {
   "cell_type": "markdown",
   "id": "68a77a3d",
   "metadata": {},
   "source": [
    "# Heap Sort"
   ]
  },
  {
   "cell_type": "code",
   "execution_count": 40,
   "id": "aeb544cc",
   "metadata": {},
   "outputs": [],
   "source": [
    "#Heap Sort Function \n",
    "def heap_sort(arr):\n",
    "    n = len(arr)\n",
    "\n",
    "    for i in range(n // 2 - 1, -1, -1):\n",
    "        heapify(arr, n, i)\n",
    "\n",
    "    for i in range(n - 1, 0, -1):\n",
    "        arr[i], arr[0] = arr[0], arr[i]\n",
    "        heapify(arr, i, 0)\n",
    "\n",
    "def heapify(arr, n, i):\n",
    "    largest = i\n",
    "    left = 2 * i + 1\n",
    "    right = 2 * i + 2\n",
    "\n",
    "    if left < n and arr[left] > arr[largest]:\n",
    "        largest = left\n",
    "\n",
    "    if right < n and arr[right] > arr[largest]:\n",
    "        largest = right\n",
    "\n",
    "    if largest != i:\n",
    "        arr[i], arr[largest] = arr[largest], arr[i]\n",
    "        heapify(arr, n, largest)"
   ]
  },
  {
   "cell_type": "code",
   "execution_count": 42,
   "id": "bc4fafe4",
   "metadata": {},
   "outputs": [
    {
     "name": "stdout",
     "output_type": "stream",
     "text": [
      "Heap Sprted Veri\n",
      "[2, 11, 14, 30, 32, 32, 36, 44, 54, 54, 58, 66, 68, 71, 73, 78, 80, 91, 94, 99]\n"
     ]
    }
   ],
   "source": [
    "heap_sorted=veri.copy()\n",
    "heap_sort(heap_sorted)\n",
    "print(\"Heap Sprted Veri\")\n",
    "print(heap_sorted)"
   ]
  },
  {
   "cell_type": "markdown",
   "id": "cf7ca66b",
   "metadata": {},
   "source": [
    "# Counting Sort"
   ]
  },
  {
   "cell_type": "code",
   "execution_count": 43,
   "id": "9d0547d0",
   "metadata": {},
   "outputs": [],
   "source": [
    "#counting Sort Function\n",
    "def counting_sort(arr):\n",
    "    max_val, min_val = max(arr), min(arr)\n",
    "    count = [0] * (max_val - min_val + 1)\n",
    "\n",
    "    for num in arr:\n",
    "        count[num - min_val] += 1\n",
    "\n",
    "    sorted_arr = [num for i, count_i in enumerate(count) for num in [i + min_val] * count_i]\n",
    "\n",
    "    return sorted_arr"
   ]
  },
  {
   "cell_type": "code",
   "execution_count": 46,
   "id": "55faed4a",
   "metadata": {},
   "outputs": [
    {
     "name": "stdout",
     "output_type": "stream",
     "text": [
      "Counting Sort Veri\n",
      "[2, 11, 14, 30, 32, 32, 36, 44, 54, 54, 58, 66, 68, 71, 73, 78, 80, 91, 94, 99]\n"
     ]
    }
   ],
   "source": [
    "counting_sorted=veri.copy()\n",
    "counting_sorted=counting_sort(counting_sorted)\n",
    "print(\"Counting Sort Veri\")\n",
    "print(counting_sorted)"
   ]
  },
  {
   "cell_type": "markdown",
   "id": "6f8a20ab",
   "metadata": {},
   "source": [
    "# Radix Sort"
   ]
  },
  {
   "cell_type": "code",
   "execution_count": 51,
   "id": "619ce2a0",
   "metadata": {},
   "outputs": [],
   "source": [
    "#radix sort function\n",
    "def counting_sort(arr, exp):\n",
    "    n = len(arr)\n",
    "    output = [0] * n\n",
    "    count = [0] * 10\n",
    "\n",
    "    for num in arr:\n",
    "        index = (num // exp) % 10\n",
    "        count[index] += 1\n",
    "\n",
    "    for i in range(1, 10):\n",
    "        count[i] += count[i - 1]\n",
    "\n",
    "    i = n - 1\n",
    "    while i >= 0:\n",
    "        index = (arr[i] // exp) % 10\n",
    "        output[count[index] - 1] = arr[i]\n",
    "        count[index] -= 1\n",
    "        i -= 1\n",
    "\n",
    "    for i in range(n):\n",
    "        arr[i] = output[i]\n",
    "\n",
    "def radix_sort(arr):\n",
    "    max_val = max(arr)\n",
    "    exp = 1\n",
    "\n",
    "    while max_val // exp > 0:\n",
    "        counting_sort(arr, exp)\n",
    "        exp *= 10"
   ]
  },
  {
   "cell_type": "code",
   "execution_count": 52,
   "id": "8a83e9d2",
   "metadata": {},
   "outputs": [
    {
     "name": "stdout",
     "output_type": "stream",
     "text": [
      "Radix Sort Veri\n",
      "[2, 11, 14, 30, 32, 32, 36, 44, 54, 54, 58, 66, 68, 71, 73, 78, 80, 91, 94, 99]\n"
     ]
    }
   ],
   "source": [
    "radix_sorted=veri.copy()\n",
    "radix_sort(radix_sorted)\n",
    "print(\"Radix Sort Veri\")\n",
    "print(radix_sorted)"
   ]
  },
  {
   "cell_type": "code",
   "execution_count": null,
   "id": "b546f062",
   "metadata": {},
   "outputs": [],
   "source": []
  }
 ],
 "metadata": {
  "kernelspec": {
   "display_name": "Python 3 (ipykernel)",
   "language": "python",
   "name": "python3"
  },
  "language_info": {
   "codemirror_mode": {
    "name": "ipython",
    "version": 3
   },
   "file_extension": ".py",
   "mimetype": "text/x-python",
   "name": "python",
   "nbconvert_exporter": "python",
   "pygments_lexer": "ipython3",
   "version": "3.11.4"
  }
 },
 "nbformat": 4,
 "nbformat_minor": 5
}
